{
  "nbformat": 4,
  "nbformat_minor": 0,
  "metadata": {
    "colab": {
      "name": "BM25_GT_eval.ipynb",
      "provenance": [],
      "collapsed_sections": [
        "Gr88kGU0W1ZB",
        "D_EUaa4Jg-HJ",
        "mgxBAVx3V8Z0",
        "KLtzbP8bi3m2"
      ],
      "toc_visible": true
    },
    "kernelspec": {
      "name": "python3",
      "display_name": "Python 3"
    }
  },
  "cells": [
    {
      "cell_type": "code",
      "metadata": {
        "colab": {
          "base_uri": "https://localhost:8080/"
        },
        "id": "UrcbcFlITfnw",
        "outputId": "9778e5f2-d776-4664-88a9-13d44b05aa3d"
      },
      "source": [
        "from google.colab import drive\n",
        "drive.mount('/content/drive', force_remount=True)"
      ],
      "execution_count": null,
      "outputs": [
        {
          "output_type": "stream",
          "text": [
            "Mounted at /content/drive\n"
          ],
          "name": "stdout"
        }
      ]
    },
    {
      "cell_type": "markdown",
      "metadata": {
        "id": "0StEtH0rTwr1"
      },
      "source": [
        "# Document Ranking: BM25 --  Ground Truth Dataset"
      ]
    },
    {
      "cell_type": "markdown",
      "metadata": {
        "id": "Gr88kGU0W1ZB"
      },
      "source": [
        "## Importing functions and libraries\n",
        "- Importing all necessary packages for the project (BM25, NLTK, spaCy, etc.)\n",
        "- Defining our personal helper functions necessary for project\n",
        "- Loading our spaCy trained model for entity extraction and further pre-processing"
      ]
    },
    {
      "cell_type": "code",
      "metadata": {
        "colab": {
          "base_uri": "https://localhost:8080/"
        },
        "id": "4YbUJpVFTnP8",
        "outputId": "866c08a2-2139-4fbd-b0ce-656586adb175"
      },
      "source": [
        "!pip install rank-bm25"
      ],
      "execution_count": null,
      "outputs": [
        {
          "output_type": "stream",
          "text": [
            "Collecting rank-bm25\n",
            "  Downloading https://files.pythonhosted.org/packages/16/5a/23ed3132063a0684ea66fb410260c71c4ffda3b99f8f1c021d1e245401b5/rank_bm25-0.2.1-py3-none-any.whl\n",
            "Requirement already satisfied: numpy in /usr/local/lib/python3.6/dist-packages (from rank-bm25) (1.18.5)\n",
            "Installing collected packages: rank-bm25\n",
            "Successfully installed rank-bm25-0.2.1\n"
          ],
          "name": "stdout"
        }
      ]
    },
    {
      "cell_type": "code",
      "metadata": {
        "colab": {
          "base_uri": "https://localhost:8080/"
        },
        "id": "3SBny9BnTz9J",
        "outputId": "8e214147-6245-46c3-a4fe-463daac06309"
      },
      "source": [
        "## import from BM25 package: https://github.com/dorianbrown/rank_bm25\n",
        "from rank_bm25 import BM25Plus, BM25Okapi, BM25L\n",
        "\n",
        "import pandas as pd\n",
        "import nltk\n",
        "import ast\n",
        "import string\n",
        "import spacy\n",
        "\n",
        "from nltk.stem import PorterStemmer, WordNetLemmatizer\n",
        "from nltk import sent_tokenize\n",
        "from nltk import word_tokenize\n",
        "from nltk import RegexpTokenizer\n",
        "from nltk.corpus import stopwords\n",
        "from nltk.tokenize import word_tokenize\n",
        "\n",
        "nltk.download('stopwords')\n",
        "nltk.download('punkt')\n",
        "nltk.download('wordnet')\n"
      ],
      "execution_count": null,
      "outputs": [
        {
          "output_type": "stream",
          "text": [
            "[nltk_data] Downloading package stopwords to /root/nltk_data...\n",
            "[nltk_data]   Unzipping corpora/stopwords.zip.\n",
            "[nltk_data] Downloading package punkt to /root/nltk_data...\n",
            "[nltk_data]   Unzipping tokenizers/punkt.zip.\n",
            "[nltk_data] Downloading package wordnet to /root/nltk_data...\n",
            "[nltk_data]   Unzipping corpora/wordnet.zip.\n"
          ],
          "name": "stdout"
        },
        {
          "output_type": "execute_result",
          "data": {
            "text/plain": [
              "True"
            ]
          },
          "metadata": {
            "tags": []
          },
          "execution_count": 3
        }
      ]
    },
    {
      "cell_type": "code",
      "metadata": {
        "id": "Ae2sv6m1ZNnH"
      },
      "source": [
        "## Loading model (nlp) to pre-process description column later --> DO ENTITY EXTRACTION\n",
        "nlp = spacy.load(\"/content/drive/Shareddrives/SI650 Project [Info Retrieval]/entity-model/\")"
      ],
      "execution_count": null,
      "outputs": []
    },
    {
      "cell_type": "markdown",
      "metadata": {
        "id": "D_EUaa4Jg-HJ"
      },
      "source": [
        "### Helper Functions\n",
        "- <b>process_text(df_col):</b> function to clean the description column (and title, in this notebook)\n",
        "- <b>standard_query(q):</b> function to standardize query for search (lemmatized, cleaned)\n",
        "- <b>query_scores(q):</b> function to get the scores for a given query (used in next helper function)\n",
        "- <b>top_n_queries(query, corpus, n):</b> return a full dataframe with data, based on the top query scores from previous function\n",
        "- <b>retrieve_docs (query):</b> return a df subset with our results\n",
        "- <b>evaluate_mAP (retrieved_docs, rel_column):</b> evaluate performance of retrieval using mean Average Precision @ 20"
      ]
    },
    {
      "cell_type": "code",
      "metadata": {
        "id": "O_kqpZb_g9mq"
      },
      "source": [
        "def process_text(df_col):\n",
        "    \"\"\"\n",
        "    Helper function to help up process the description columns. Several NLP techniques implemented to get lemmatized, clean tokens\n",
        "    :input: dataframe column (description)\n",
        "    :output: list of stemmed, clean tokens\n",
        "    \"\"\"\n",
        "\n",
        "    ret_list = []\n",
        "\n",
        "    stop_words = set(stopwords.words(\"english\"))\n",
        "\n",
        "    stemmer = PorterStemmer()\n",
        "    lemmatizer = WordNetLemmatizer()\n",
        "    tokenizer = RegexpTokenizer(pattern='\\w+|\\$[\\d\\.]+|\\S+')\n",
        "\n",
        "    to_remove = ['show', 'moreshow', 'less']\n",
        "\n",
        "    for d in df_col:\n",
        "        ## lowercase text\n",
        "        text = d.lower()\n",
        "        ## remove punctuation, keep it as string\n",
        "        text = \"\".join([c for c in text if c not in string.punctuation])\n",
        "        ## tokenization (definitely would use RegExp)\n",
        "        token_text = tokenizer.tokenize(text)\n",
        "        ## filter out stopwords\n",
        "        filt_tokens = [t for t in token_text if t not in stop_words]\n",
        "\n",
        "        ## get token stems or lemmas? (lemmas seems to have better results, according to below paper)\n",
        "        # stem_tokens = [stemmer.stem(t) for t in filt_tokens]\n",
        "        lemma_tokens = [lemmatizer.lemmatize(t) for t in filt_tokens]\n",
        "\n",
        "        ## removing \"show more/less\" idiosincracy \n",
        "        lemma_tokens = [i for i in lemma_tokens if i not in to_remove]\n",
        "\n",
        "        # ret_list.append(stem_tokens)\n",
        "        ret_list.append(lemma_tokens)\n",
        "\n",
        "    return ret_list\n",
        "\n",
        "# input: query string, return: stemmed query string\n",
        "def standard_query(q):\n",
        "    \"\"\"\n",
        "    Similar to description, standardize the query input for appropriate results\n",
        "    :input: query string\n",
        "    :output: clean, standardized query string\n",
        "    \"\"\"\n",
        "    stop_words = set(stopwords.words(\"english\"))\n",
        "    tokenizer = RegexpTokenizer(pattern='\\w+|\\$[\\d\\.]+|\\S+') \n",
        "    # stemmer = PorterStemmer()\n",
        "    lemmatizer = WordNetLemmatizer()\n",
        "\n",
        "    # same preprocessing applied in \"process_description\", but for a given query\n",
        "    text = q.lower()\n",
        "    text = \"\".join([c for c in q if c not in string.punctuation])\n",
        "    token_text = tokenizer.tokenize(text)\n",
        "    filt_tokens = [t for t in token_text if t not in stop_words]\n",
        "\n",
        "    ## stemming or lemmatizing\n",
        "    # stemmed_query = [stemmer.stem(t) for t in filt_tokens]\n",
        "    lemmatized_query = [lemmatizer.lemmatize(t) for t in filt_tokens]\n",
        "\n",
        "    # query_str = \" \".join([c for c in stemmed_query])\n",
        "    query_str = \" \".join([c for c in lemmatized_query])\n",
        "\n",
        "    return query_str\n",
        "# standard_query(\"devops engineer\")\n",
        "\n",
        "\n",
        "# input: query string, return: bm25 scores list (can get top n scores)\n",
        "def query_scores(q):\n",
        "    \"\"\"\n",
        "    Function to get all the query scores given a query\n",
        "    :input: query\n",
        "    :output: document scores for a given query\n",
        "    \"\"\"\n",
        "    stop_words = set(stopwords.words(\"english\"))\n",
        "    tokenizer = RegexpTokenizer(pattern='\\w+|\\$[\\d\\.]+|\\S+')\n",
        "    # stemmer = PorterStemmer()\n",
        "    lemmatizer = WordNetLemmatizer()\n",
        "\n",
        "    # same preprocessing applied in \"process_description\"\n",
        "    text = q.lower()\n",
        "    text = \"\".join([c for c in text if c not in string.punctuation])\n",
        "    token_text = tokenizer.tokenize(text)\n",
        "    filt_tokens = [t for t in token_text if t not in stop_words]\n",
        "\n",
        "    # stemmed_query = [stemmer.stem(t) for t in filt_tokens]\n",
        "    lemmatized_query = [lemmatizer.lemmatize(t) for t in filt_tokens]\n",
        "\n",
        "    # get bm25 plus scores\n",
        "    # doc_scores = bm25.get_scores(stemmed_query)\n",
        "    doc_scores = bm25.get_scores(lemmatized_query)\n",
        "\n",
        "    # return sorted(doc_scores, reverse=True)[:10]\n",
        "    return doc_scores\n",
        "# query_scores(\"machine learning engineer\")\n",
        "\n",
        "\n",
        "# input: query string, corpus, top_n; return: df subset with entries from Full_DF, including naive relevance score\n",
        "def top_n_queries(query, corpus, n, column):\n",
        "    \"\"\"\n",
        "    Function to get top N queries, not only scores, but returning the dataframe with our relevant data\n",
        "    :input: query, corpus, top n\n",
        "    :output: df subset of entries from our complete df, with a naive relevance score\n",
        "    \"\"\"\n",
        "    query = standard_query(query)\n",
        "    tokenized_query = query.split(\" \")\n",
        "\n",
        "    top_n = bm25.get_top_n(query, corpus, n=n)\n",
        "    copy = df.copy()\n",
        "\n",
        "    # making clean_string column to return nice df of our results\n",
        "    ### adapted slightly, since now we're gonna find the matching title_and_description, no \"clean_string\" anymore\n",
        "    # copy[\"clean_string\"] = copy.description_clean.apply(lambda x: \" \".join([i for i in x]))\n",
        "\n",
        "    # creating simple relevance measure (ground truth) for the given query (if query in description, 1, else 0)\n",
        "    relevance = []\n",
        "\n",
        "    for cs in copy[column]:\n",
        "        if query in cs:\n",
        "            relevance.append(1)\n",
        "        else: \n",
        "            relevance.append(0)\n",
        "\n",
        "    copy[\"in_title\"] = relevance\n",
        "\n",
        "    return copy[copy[column].isin(top_n)]#.reset_index()\n",
        "    # return copy\n",
        "\n",
        "\n",
        "def retrieve_docs(query, column):\n",
        "    \"\"\"\n",
        "    Retrieve documents given a query, based on fitted BM25L (could vary algos) --- NEED TO PICK THE COLUMNS TO RETURN\n",
        "    :input: query string\n",
        "    :output: top 20 postings, alongside mAP evaluation score if set to True\n",
        "    \"\"\"\n",
        "    qq = query\n",
        "\n",
        "    given_query = top_n_queries(qq, corpus, len(df), column)\n",
        "    given_query[\"bm25_score\"] = query_scores(qq)\n",
        "\n",
        "    ## now we have all columns available, so pick and choose to get a nice return df --> pick which !!!\n",
        "    ret_df = given_query.sort_values(by=\"bm25_score\", ascending=False)[['title','ds_rel','security_rel','ux_rel','bm25_score']][:20]\n",
        "\n",
        "    return ret_df.reset_index(drop=True)\n",
        "\n",
        "def evaluate_mAP(retrieved_docs, rel_column):\n",
        "    \"\"\"\n",
        "    Function computes mean average precision (mAP) for the given query with ground truth annotations\n",
        "    :input: retrieved docs df, string of relevant column (either 'ds_rel', 'ux_rel', 'security_rel')\n",
        "    :output: mAP@20 score for given query\n",
        "    \"\"\"\n",
        "    # for security_docs\n",
        "    prec_list = []\n",
        "    relevant_count = 0\n",
        "\n",
        "    for i, b in enumerate(retrieved_docs[rel_column], 1):\n",
        "        if b > 0:\n",
        "            relevant_count += 1\n",
        "            prec_list.append(relevant_count/i)\n",
        "            # relevant_count += 1\n",
        "        if b <= 0:\n",
        "            prec_list.append(0/i)\n",
        "\n",
        "    mAP = sum(prec_list) / relevant_count\n",
        "\n",
        "    # print(prec_list)\n",
        "    # print(relevant_count)\n",
        "    return round(mAP, 6)\n"
      ],
      "execution_count": null,
      "outputs": []
    },
    {
      "cell_type": "markdown",
      "metadata": {
        "id": "mgxBAVx3V8Z0"
      },
      "source": [
        "## Data Preparation and Further Pre-Processing\n",
        "- Read in ground truth data and full dataframe (from code folder) to obtain all relevant ground_truth dimensions \n",
        "- Creating different variations of df columns: \n",
        "    - \"title\" and \"description\" strings from list\n",
        "    - \"title_and_description\" feature\n",
        "    - extracted entities with spaCy"
      ]
    },
    {
      "cell_type": "code",
      "metadata": {
        "id": "06sDAEzoT1Sz"
      },
      "source": [
        "## read in ground truth annotated data\n",
        "ground_truth_path = 'drive/Shared drives/SI650 Project [Info Retrieval]/data/ground_truth1.csv' \n",
        "ground_truth = pd.read_csv(ground_truth_path)\n",
        "ground_truth.drop(\"Unnamed: 0\", axis=1, inplace=True)"
      ],
      "execution_count": null,
      "outputs": []
    },
    {
      "cell_type": "code",
      "metadata": {
        "id": "pWlYmPhXT1QN"
      },
      "source": [
        "## need to read in FULL_DF to merge and get the description as well\n",
        "Full_DF = pd.read_csv(\"/content/drive/Shareddrives/SI650 Project [Info Retrieval]/data/FULL_DF.csv\")\n",
        "\n",
        "# description_clean was string of list of strings, use literal_eval to make it list of strings\n",
        "Full_DF.description_clean = Full_DF.description_clean.apply(lambda x: ast.literal_eval(x))"
      ],
      "execution_count": null,
      "outputs": []
    },
    {
      "cell_type": "code",
      "metadata": {
        "colab": {
          "base_uri": "https://localhost:8080/",
          "height": 168
        },
        "id": "93YnfN5yT1Nm",
        "outputId": "74778b47-6f1c-4ff5-f31b-a64d56c0486b"
      },
      "source": [
        "Full_DF.sample(1)"
      ],
      "execution_count": null,
      "outputs": [
        {
          "output_type": "execute_result",
          "data": {
            "text/html": [
              "<div>\n",
              "<style scoped>\n",
              "    .dataframe tbody tr th:only-of-type {\n",
              "        vertical-align: middle;\n",
              "    }\n",
              "\n",
              "    .dataframe tbody tr th {\n",
              "        vertical-align: top;\n",
              "    }\n",
              "\n",
              "    .dataframe thead th {\n",
              "        text-align: right;\n",
              "    }\n",
              "</style>\n",
              "<table border=\"1\" class=\"dataframe\">\n",
              "  <thead>\n",
              "    <tr style=\"text-align: right;\">\n",
              "      <th></th>\n",
              "      <th>job_id</th>\n",
              "      <th>link</th>\n",
              "      <th>apply_link</th>\n",
              "      <th>title</th>\n",
              "      <th>company</th>\n",
              "      <th>place</th>\n",
              "      <th>description</th>\n",
              "      <th>date</th>\n",
              "      <th>seniority</th>\n",
              "      <th>job_function</th>\n",
              "      <th>employment_type</th>\n",
              "      <th>industries</th>\n",
              "      <th>description_clean</th>\n",
              "      <th>english</th>\n",
              "    </tr>\n",
              "  </thead>\n",
              "  <tbody>\n",
              "    <tr>\n",
              "      <th>5416</th>\n",
              "      <td>2233953256</td>\n",
              "      <td>https://www.linkedin.com/jobs/view/pentester-...</td>\n",
              "      <td>https://www.linkedin.com/jobs/view/externalAp...</td>\n",
              "      <td>Pentester - for an innovative security as a p...</td>\n",
              "      <td>Wiley Job Network</td>\n",
              "      <td>Flensburg, Minnesota, United States</td>\n",
              "      <td>Hi InfiCare has been providing Contingent Sta...</td>\n",
              "      <td>2020-10-20</td>\n",
              "      <td>Entry level</td>\n",
              "      <td>Other</td>\n",
              "      <td>Full-time</td>\n",
              "      <td>Information Technology and Services, Computer...</td>\n",
              "      <td>[hi, inficare, providing, contingent, staffing...</td>\n",
              "      <td>1</td>\n",
              "    </tr>\n",
              "  </tbody>\n",
              "</table>\n",
              "</div>"
            ],
            "text/plain": [
              "          job_id  ... english\n",
              "5416  2233953256  ...       1\n",
              "\n",
              "[1 rows x 14 columns]"
            ]
          },
          "metadata": {
            "tags": []
          },
          "execution_count": 27
        }
      ]
    },
    {
      "cell_type": "code",
      "metadata": {
        "colab": {
          "base_uri": "https://localhost:8080/",
          "height": 80
        },
        "id": "WTifKj9iT1LF",
        "outputId": "50b71cfd-5c27-4869-ab51-3520e6562839"
      },
      "source": [
        "ground_truth.sample(1)"
      ],
      "execution_count": null,
      "outputs": [
        {
          "output_type": "execute_result",
          "data": {
            "text/html": [
              "<div>\n",
              "<style scoped>\n",
              "    .dataframe tbody tr th:only-of-type {\n",
              "        vertical-align: middle;\n",
              "    }\n",
              "\n",
              "    .dataframe tbody tr th {\n",
              "        vertical-align: top;\n",
              "    }\n",
              "\n",
              "    .dataframe thead th {\n",
              "        text-align: right;\n",
              "    }\n",
              "</style>\n",
              "<table border=\"1\" class=\"dataframe\">\n",
              "  <thead>\n",
              "    <tr style=\"text-align: right;\">\n",
              "      <th></th>\n",
              "      <th>job_id</th>\n",
              "      <th>title</th>\n",
              "      <th>ds_rel</th>\n",
              "      <th>security_rel</th>\n",
              "      <th>ux_rel</th>\n",
              "    </tr>\n",
              "  </thead>\n",
              "  <tbody>\n",
              "    <tr>\n",
              "      <th>67</th>\n",
              "      <td>2222623935</td>\n",
              "      <td>Java Developer</td>\n",
              "      <td>-2</td>\n",
              "      <td>-1</td>\n",
              "      <td>-2</td>\n",
              "    </tr>\n",
              "  </tbody>\n",
              "</table>\n",
              "</div>"
            ],
            "text/plain": [
              "        job_id           title  ds_rel  security_rel  ux_rel\n",
              "67  2222623935  Java Developer      -2            -1      -2"
            ]
          },
          "metadata": {
            "tags": []
          },
          "execution_count": 28
        }
      ]
    },
    {
      "cell_type": "code",
      "metadata": {
        "id": "hPEMePqVT1IV"
      },
      "source": [
        "## let's join our 200 ground truth data entries with our Full_DF --> drop title, since we have that in Full_DF as well\n",
        "### ALSO, WE CAN DEFINE df=Full_DF for our last retrieval model, fitting the entire corpus we have into BM25.\n",
        "df = pd.merge(Full_DF, ground_truth.drop(\"title\", axis=1), left_on=\"job_id\", right_on=\"job_id\", how=\"right\").drop_duplicates(\"job_id\")"
      ],
      "execution_count": null,
      "outputs": []
    },
    {
      "cell_type": "code",
      "metadata": {
        "colab": {
          "base_uri": "https://localhost:8080/",
          "height": 185
        },
        "id": "E6ZXTB8uT1Fa",
        "outputId": "d4d65c1e-597e-4fa6-b905-5c58ddcc5c6b"
      },
      "source": [
        "df.sample(1)"
      ],
      "execution_count": null,
      "outputs": [
        {
          "output_type": "execute_result",
          "data": {
            "text/html": [
              "<div>\n",
              "<style scoped>\n",
              "    .dataframe tbody tr th:only-of-type {\n",
              "        vertical-align: middle;\n",
              "    }\n",
              "\n",
              "    .dataframe tbody tr th {\n",
              "        vertical-align: top;\n",
              "    }\n",
              "\n",
              "    .dataframe thead th {\n",
              "        text-align: right;\n",
              "    }\n",
              "</style>\n",
              "<table border=\"1\" class=\"dataframe\">\n",
              "  <thead>\n",
              "    <tr style=\"text-align: right;\">\n",
              "      <th></th>\n",
              "      <th>job_id</th>\n",
              "      <th>link</th>\n",
              "      <th>apply_link</th>\n",
              "      <th>title</th>\n",
              "      <th>company</th>\n",
              "      <th>place</th>\n",
              "      <th>description</th>\n",
              "      <th>date</th>\n",
              "      <th>seniority</th>\n",
              "      <th>job_function</th>\n",
              "      <th>employment_type</th>\n",
              "      <th>industries</th>\n",
              "      <th>description_clean</th>\n",
              "      <th>english</th>\n",
              "      <th>ds_rel</th>\n",
              "      <th>security_rel</th>\n",
              "      <th>ux_rel</th>\n",
              "      <th>title_clean</th>\n",
              "      <th>title_clean_string</th>\n",
              "      <th>description_clean_string</th>\n",
              "      <th>title_and_description</th>\n",
              "      <th>entities</th>\n",
              "      <th>entities_list</th>\n",
              "      <th>entities_clean_string</th>\n",
              "      <th>title_and_entities</th>\n",
              "    </tr>\n",
              "  </thead>\n",
              "  <tbody>\n",
              "    <tr>\n",
              "      <th>73</th>\n",
              "      <td>2176252488</td>\n",
              "      <td>https://www.linkedin.com/jobs/view/cloud-devo...</td>\n",
              "      <td></td>\n",
              "      <td>Cloud DevOps Engineering</td>\n",
              "      <td>Benchmark IT - Technology Talent</td>\n",
              "      <td>Tarrytown, New York, United States</td>\n",
              "      <td>Why We Work at Dun &amp; Bradstreet\\nWe are at a ...</td>\n",
              "      <td>2020-10-13</td>\n",
              "      <td>Entry level</td>\n",
              "      <td>Other</td>\n",
              "      <td>Full-time</td>\n",
              "      <td>Information Technology and Services, Computer...</td>\n",
              "      <td>[work, dun, bradstreet, transformational, mome...</td>\n",
              "      <td>1</td>\n",
              "      <td>0</td>\n",
              "      <td>1</td>\n",
              "      <td>-2</td>\n",
              "      <td>[cloud, devops, engineering]</td>\n",
              "      <td>cloud devops engineering</td>\n",
              "      <td>work dun bradstreet transformational moment co...</td>\n",
              "      <td>cloud devops engineering work dun bradstreet t...</td>\n",
              "      <td>Why growth San Mateo Short Hills ; Center Vall...</td>\n",
              "      <td>[growth, san, mateo, short, hill, center, vall...</td>\n",
              "      <td>growth san mateo short hill center valley anal...</td>\n",
              "      <td>cloud devops engineering growth san mateo shor...</td>\n",
              "    </tr>\n",
              "  </tbody>\n",
              "</table>\n",
              "</div>"
            ],
            "text/plain": [
              "        job_id  ...                                 title_and_entities\n",
              "73  2176252488  ...  cloud devops engineering growth san mateo shor...\n",
              "\n",
              "[1 rows x 25 columns]"
            ]
          },
          "metadata": {
            "tags": []
          },
          "execution_count": 29
        }
      ]
    },
    {
      "cell_type": "code",
      "metadata": {
        "colab": {
          "base_uri": "https://localhost:8080/"
        },
        "id": "Uqi6TYkfT079",
        "outputId": "4fe1f6e1-adea-427f-8e13-e5f21ba895ca"
      },
      "source": [
        "df.shape"
      ],
      "execution_count": null,
      "outputs": [
        {
          "output_type": "execute_result",
          "data": {
            "text/plain": [
              "(199, 17)"
            ]
          },
          "metadata": {
            "tags": []
          },
          "execution_count": 12
        }
      ]
    },
    {
      "cell_type": "markdown",
      "metadata": {
        "id": "dd6TmCc8XR4u"
      },
      "source": [
        "### Adding Columns to our DataFrame\n",
        "- \"title_clean\" (list and string)\n",
        "- \"description_clean_string\"\n",
        "- \"title_and_description\"\n",
        "- \"entities\"\n",
        "- \"entities_list\"\n",
        "- \"entities_clean_string\"\n",
        "- \"title_and_entities\"\n",
        "- \"company_title_entities\""
      ]
    },
    {
      "cell_type": "code",
      "metadata": {
        "id": "41YNdskKXUSJ"
      },
      "source": [
        "## didn't have clean title yet\n",
        "df[\"title_clean\"] = process_text(df.title)\n",
        "\n",
        "## make strings out of clean title and description to concatenate\n",
        "df[\"title_clean_string\"] = [\" \".join(i) for i in df.title_clean]\n",
        "df[\"description_clean_string\"] = [\" \".join(i) for i in df.description_clean]\n",
        "\n",
        "## create a new column with clean title + clean description for \"better\" retrieval, prolly use BM25L?\n",
        "df[\"title_and_description\"] = df.title_clean_string + \" \" + df.description_clean_string\n"
      ],
      "execution_count": null,
      "outputs": []
    },
    {
      "cell_type": "code",
      "metadata": {
        "id": "_CX9Xmm7XCbU"
      },
      "source": [
        "## create an entities column, not clean yet but process the text after probably\n",
        "df[\"entities\"] = df[\"description\"].apply(lambda x: str((nlp(x).ents)).replace(\"(\", \"\").replace(\")\", \"\").replace(\",\", \"\"))\n",
        "\n",
        "## process_text returns a clean list of strings\n",
        "df[\"entities_list\"] = process_text(df.entities)\n",
        "\n",
        "## let's make the previous defined list into a clean string for concatenation with title\n",
        "df[\"entities_clean_string\"] = [\" \".join(i) for i in df.entities_list]\n",
        "\n",
        "## concatenating title and entities (similar to concatenating title and description)\n",
        "df[\"title_and_entities\"] = df.title_clean_string + \" \" + df.entities_clean_string"
      ],
      "execution_count": null,
      "outputs": []
    },
    {
      "cell_type": "code",
      "metadata": {
        "id": "iXR7kZlo0IX1"
      },
      "source": [
        "## creating token list for company, and a clean string of company name for concatenation\n",
        "df[\"company_token_list\"] = process_text(df.company)\n",
        "df[\"company_clean_string\"] = [\" \".join(i) for i in df.company_token_list]\n",
        "\n",
        "## concatenate company name, job title, and extracted entities\n",
        "df[\"company_title_entities\"] = df.company_clean_string + \" \" + df.title_clean_string + \" \" + df.entities_clean_string"
      ],
      "execution_count": null,
      "outputs": []
    },
    {
      "cell_type": "code",
      "metadata": {
        "colab": {
          "base_uri": "https://localhost:8080/",
          "height": 185
        },
        "id": "Lz0oahuqhYnz",
        "outputId": "8d1e55c3-b236-4f0f-dfd8-b6db0768287c"
      },
      "source": [
        "df.sample(1)"
      ],
      "execution_count": null,
      "outputs": [
        {
          "output_type": "execute_result",
          "data": {
            "text/html": [
              "<div>\n",
              "<style scoped>\n",
              "    .dataframe tbody tr th:only-of-type {\n",
              "        vertical-align: middle;\n",
              "    }\n",
              "\n",
              "    .dataframe tbody tr th {\n",
              "        vertical-align: top;\n",
              "    }\n",
              "\n",
              "    .dataframe thead th {\n",
              "        text-align: right;\n",
              "    }\n",
              "</style>\n",
              "<table border=\"1\" class=\"dataframe\">\n",
              "  <thead>\n",
              "    <tr style=\"text-align: right;\">\n",
              "      <th></th>\n",
              "      <th>job_id</th>\n",
              "      <th>link</th>\n",
              "      <th>apply_link</th>\n",
              "      <th>title</th>\n",
              "      <th>company</th>\n",
              "      <th>place</th>\n",
              "      <th>description</th>\n",
              "      <th>date</th>\n",
              "      <th>seniority</th>\n",
              "      <th>job_function</th>\n",
              "      <th>employment_type</th>\n",
              "      <th>industries</th>\n",
              "      <th>description_clean</th>\n",
              "      <th>english</th>\n",
              "      <th>ds_rel</th>\n",
              "      <th>security_rel</th>\n",
              "      <th>ux_rel</th>\n",
              "      <th>title_clean</th>\n",
              "      <th>title_clean_string</th>\n",
              "      <th>description_clean_string</th>\n",
              "      <th>title_and_description</th>\n",
              "      <th>entities</th>\n",
              "      <th>entities_list</th>\n",
              "      <th>entities_clean_string</th>\n",
              "      <th>title_and_entities</th>\n",
              "      <th>company_token_list</th>\n",
              "      <th>company_clean_string</th>\n",
              "      <th>company_title_entities</th>\n",
              "    </tr>\n",
              "  </thead>\n",
              "  <tbody>\n",
              "    <tr>\n",
              "      <th>207</th>\n",
              "      <td>2220771341</td>\n",
              "      <td>https://www.linkedin.com/jobs/view/senior-sof...</td>\n",
              "      <td>https://www.linkedin.com/jobs/view/externalAp...</td>\n",
              "      <td>Senior Software Engineer in Test (San Francis...</td>\n",
              "      <td>Okta, Inc.</td>\n",
              "      <td>San Francisco, CA</td>\n",
              "      <td>Okta is looking for a Software Engineer in Te...</td>\n",
              "      <td>2020-10-29</td>\n",
              "      <td>Not Applicable</td>\n",
              "      <td>Engineering, Information Technology</td>\n",
              "      <td>Full-time</td>\n",
              "      <td>Computer &amp; Network Security, Computer Softwar...</td>\n",
              "      <td>[okta, looking, software, engineer, test, join...</td>\n",
              "      <td>1</td>\n",
              "      <td>-1</td>\n",
              "      <td>-2</td>\n",
              "      <td>-2</td>\n",
              "      <td>[senior, software, engineer, test, san, franci...</td>\n",
              "      <td>senior software engineer test san francisco ca...</td>\n",
              "      <td>okta looking software engineer test join end u...</td>\n",
              "      <td>senior software engineer test san francisco ca...</td>\n",
              "      <td>usability scalable software APIs UX Java UI Se...</td>\n",
              "      <td>[usability, scalable, software, apis, ux, java...</td>\n",
              "      <td>usability scalable software apis ux java ui se...</td>\n",
              "      <td>senior software engineer test san francisco ca...</td>\n",
              "      <td>[okta, inc]</td>\n",
              "      <td>okta inc</td>\n",
              "      <td>okta inc senior software engineer test san fra...</td>\n",
              "    </tr>\n",
              "  </tbody>\n",
              "</table>\n",
              "</div>"
            ],
            "text/plain": [
              "         job_id  ...                             company_title_entities\n",
              "207  2220771341  ...  okta inc senior software engineer test san fra...\n",
              "\n",
              "[1 rows x 28 columns]"
            ]
          },
          "metadata": {
            "tags": []
          },
          "execution_count": 38
        }
      ]
    },
    {
      "cell_type": "markdown",
      "metadata": {
        "id": "KLtzbP8bi3m2"
      },
      "source": [
        "## BM25 Model Retrieval\n",
        "- Try out all variations of BM25 with all variations of our column dimensions \n",
        "- Only using ground_truth subset, since those are the only ones annotated for relevance and therefore the only ones that can be empirically evaluated\n",
        "- BM25 variants:\n",
        "    - BM25L\n",
        "    - BM25Plus\n",
        "    - BM25Okapi\n",
        "- Columns to be fit into BM25:\n",
        "    - title_clean_string\n",
        "    - description_clean_string\n",
        "    - title_and_description\n",
        "    - entities_clean_string\n",
        "    - title_and_entities\n",
        "    - company_title_entities\n",
        "- Evaluating variants using mAP @ 20"
      ]
    },
    {
      "cell_type": "code",
      "metadata": {
        "colab": {
          "base_uri": "https://localhost:8080/",
          "height": 185
        },
        "id": "2t1HDNnAjx9K",
        "outputId": "f8cf3c64-8739-4cd4-fc8a-ffb2b73339f4"
      },
      "source": [
        "df.sample(1)"
      ],
      "execution_count": null,
      "outputs": [
        {
          "output_type": "execute_result",
          "data": {
            "text/html": [
              "<div>\n",
              "<style scoped>\n",
              "    .dataframe tbody tr th:only-of-type {\n",
              "        vertical-align: middle;\n",
              "    }\n",
              "\n",
              "    .dataframe tbody tr th {\n",
              "        vertical-align: top;\n",
              "    }\n",
              "\n",
              "    .dataframe thead th {\n",
              "        text-align: right;\n",
              "    }\n",
              "</style>\n",
              "<table border=\"1\" class=\"dataframe\">\n",
              "  <thead>\n",
              "    <tr style=\"text-align: right;\">\n",
              "      <th></th>\n",
              "      <th>job_id</th>\n",
              "      <th>link</th>\n",
              "      <th>apply_link</th>\n",
              "      <th>title</th>\n",
              "      <th>company</th>\n",
              "      <th>place</th>\n",
              "      <th>description</th>\n",
              "      <th>date</th>\n",
              "      <th>seniority</th>\n",
              "      <th>job_function</th>\n",
              "      <th>employment_type</th>\n",
              "      <th>industries</th>\n",
              "      <th>description_clean</th>\n",
              "      <th>english</th>\n",
              "      <th>ds_rel</th>\n",
              "      <th>security_rel</th>\n",
              "      <th>ux_rel</th>\n",
              "      <th>title_clean</th>\n",
              "      <th>title_clean_string</th>\n",
              "      <th>description_clean_string</th>\n",
              "      <th>title_and_description</th>\n",
              "      <th>entities</th>\n",
              "      <th>entities_list</th>\n",
              "      <th>entities_clean_string</th>\n",
              "      <th>title_and_entities</th>\n",
              "    </tr>\n",
              "  </thead>\n",
              "  <tbody>\n",
              "    <tr>\n",
              "      <th>134</th>\n",
              "      <td>2187591553</td>\n",
              "      <td>https://www.linkedin.com/jobs/view/backend-ja...</td>\n",
              "      <td>https://www.linkedin.com/jobs/view/externalAp...</td>\n",
              "      <td>Backend Java Developer</td>\n",
              "      <td>Ab Ovo, Inc.</td>\n",
              "      <td>Mountain View, California, United States</td>\n",
              "      <td>Backend Developer\\n\\nIn a matter of minutes, ...</td>\n",
              "      <td>2020-10-16</td>\n",
              "      <td>Entry level</td>\n",
              "      <td>Engineering, Information Technology</td>\n",
              "      <td>Full-time</td>\n",
              "      <td>Information Technology and Services, Computer...</td>\n",
              "      <td>[backend, developer, matter, minute, aible, he...</td>\n",
              "      <td>1</td>\n",
              "      <td>-1</td>\n",
              "      <td>0</td>\n",
              "      <td>-2</td>\n",
              "      <td>[backend, java, developer]</td>\n",
              "      <td>backend java developer</td>\n",
              "      <td>backend developer matter minute aible help bus...</td>\n",
              "      <td>backend java developer backend developer matte...</td>\n",
              "      <td>scalable APIs Python Jinja2 PostgresQL Redis G...</td>\n",
              "      <td>[scalable, apis, python, jinja2, postgresql, r...</td>\n",
              "      <td>scalable apis python jinja2 postgresql redis g...</td>\n",
              "      <td>backend java developer scalable apis python ji...</td>\n",
              "    </tr>\n",
              "  </tbody>\n",
              "</table>\n",
              "</div>"
            ],
            "text/plain": [
              "         job_id  ...                                 title_and_entities\n",
              "134  2187591553  ...  backend java developer scalable apis python ji...\n",
              "\n",
              "[1 rows x 25 columns]"
            ]
          },
          "metadata": {
            "tags": []
          },
          "execution_count": 16
        }
      ]
    },
    {
      "cell_type": "code",
      "metadata": {
        "colab": {
          "base_uri": "https://localhost:8080/"
        },
        "id": "f__Xvgglmt10",
        "outputId": "78e79ac0-5676-411a-f4e7-4f8bcda3e945"
      },
      "source": [
        "### CHANGE THE BM25 VARIANT AND THE DIFFERENT COLUMNS TO BE FIT INTO BM25\n",
        "\n",
        "## define corpus from our target data (input should be the string version of the column)\n",
        "corpus = []\n",
        "\n",
        "## change this variable to fit with different column -- WHAT TO FIT TO BM25 MODEL\n",
        "\n",
        "possible_columns = [\"title_clean_string\", \"description_clean_string\", \"title_and_description\", \n",
        "                    \"entities_clean_string\", \"title_and_entities\", \"company_title_entities\"]\n",
        "\n",
        "COLUMN_VAR = possible_columns[5]\n",
        "\n",
        "for i in df[COLUMN_VAR].values:\n",
        "    corpus.append(i)\n",
        "\n",
        "# corpus\n",
        "\n",
        "tokenized_corpus = [doc.split(\" \") for doc in corpus]\n",
        "# tokenized_corpus\n",
        "\n",
        "## uncomment the current BM25 variation to be used, can also give hyperparams here\n",
        "## https://github.com/dorianbrown/rank_bm25/blob/master/rank_bm25.py\n",
        "\n",
        "bm25 = BM25L(tokenized_corpus) #k1=1.5, b=0.75, delta=0.5\n",
        "# bm25 = BM25Okapi(tokenized_corpus)\n",
        "# bm25 = BM25Plus(tokenized_corpus)\n",
        "bm25"
      ],
      "execution_count": null,
      "outputs": [
        {
          "output_type": "execute_result",
          "data": {
            "text/plain": [
              "<rank_bm25.BM25L at 0x7f903e2a4c88>"
            ]
          },
          "metadata": {
            "tags": []
          },
          "execution_count": 64
        }
      ]
    },
    {
      "cell_type": "code",
      "metadata": {
        "colab": {
          "base_uri": "https://localhost:8080/",
          "height": 669
        },
        "id": "TXwavFROv-c0",
        "outputId": "8c065ca3-7f13-4cad-d4d9-ba215bf17034"
      },
      "source": [
        "## the column variable, make sure it matches with the column that was fitted into BM25 model\n",
        "\n",
        "# ds_docs = retrieve_docs(\"data science\", column=\"title_clean_string\")\n",
        "# ds_docs = retrieve_docs(\"data science\", column=\"description_clean_string\")\n",
        "# ds_docs = retrieve_docs(\"data science\", column=\"title_and_description\")\n",
        "# ds_docs = retrieve_docs(\"data science\", column=\"entities_clean_string\")\n",
        "# ds_docs = retrieve_docs(\"data science\", column=\"title_and_entities\")\n",
        "ds_docs = retrieve_docs(\"data science\", column=\"company_title_entities\")\n",
        "\n",
        "\n",
        "ds_docs"
      ],
      "execution_count": null,
      "outputs": [
        {
          "output_type": "execute_result",
          "data": {
            "text/html": [
              "<div>\n",
              "<style scoped>\n",
              "    .dataframe tbody tr th:only-of-type {\n",
              "        vertical-align: middle;\n",
              "    }\n",
              "\n",
              "    .dataframe tbody tr th {\n",
              "        vertical-align: top;\n",
              "    }\n",
              "\n",
              "    .dataframe thead th {\n",
              "        text-align: right;\n",
              "    }\n",
              "</style>\n",
              "<table border=\"1\" class=\"dataframe\">\n",
              "  <thead>\n",
              "    <tr style=\"text-align: right;\">\n",
              "      <th></th>\n",
              "      <th>title</th>\n",
              "      <th>ds_rel</th>\n",
              "      <th>security_rel</th>\n",
              "      <th>ux_rel</th>\n",
              "      <th>bm25_score</th>\n",
              "    </tr>\n",
              "  </thead>\n",
              "  <tbody>\n",
              "    <tr>\n",
              "      <th>0</th>\n",
              "      <td>Lead Data Architect</td>\n",
              "      <td>1</td>\n",
              "      <td>-2</td>\n",
              "      <td>1</td>\n",
              "      <td>29.168741</td>\n",
              "    </tr>\n",
              "    <tr>\n",
              "      <th>1</th>\n",
              "      <td>Senior Data Scientist</td>\n",
              "      <td>2</td>\n",
              "      <td>-2</td>\n",
              "      <td>-2</td>\n",
              "      <td>18.587222</td>\n",
              "    </tr>\n",
              "    <tr>\n",
              "      <th>2</th>\n",
              "      <td>Hadoop/ Spark Developer</td>\n",
              "      <td>1</td>\n",
              "      <td>-1</td>\n",
              "      <td>-2</td>\n",
              "      <td>15.499726</td>\n",
              "    </tr>\n",
              "    <tr>\n",
              "      <th>3</th>\n",
              "      <td>Data Analyst/Integration Specialist</td>\n",
              "      <td>1</td>\n",
              "      <td>-1</td>\n",
              "      <td>-1</td>\n",
              "      <td>10.240076</td>\n",
              "    </tr>\n",
              "    <tr>\n",
              "      <th>4</th>\n",
              "      <td>Data Architect</td>\n",
              "      <td>1</td>\n",
              "      <td>-2</td>\n",
              "      <td>0</td>\n",
              "      <td>9.772508</td>\n",
              "    </tr>\n",
              "    <tr>\n",
              "      <th>5</th>\n",
              "      <td>Practice Director, Data Science</td>\n",
              "      <td>1</td>\n",
              "      <td>-2</td>\n",
              "      <td>-1</td>\n",
              "      <td>9.437960</td>\n",
              "    </tr>\n",
              "    <tr>\n",
              "      <th>6</th>\n",
              "      <td>Data Scientist - Adtech - Remote</td>\n",
              "      <td>2</td>\n",
              "      <td>-2</td>\n",
              "      <td>-2</td>\n",
              "      <td>9.363572</td>\n",
              "    </tr>\n",
              "    <tr>\n",
              "      <th>7</th>\n",
              "      <td>Senior Software Engineer - Scan Services</td>\n",
              "      <td>-1</td>\n",
              "      <td>-2</td>\n",
              "      <td>-2</td>\n",
              "      <td>8.897336</td>\n",
              "    </tr>\n",
              "    <tr>\n",
              "      <th>8</th>\n",
              "      <td>Tire Intelligence Algorithm Development Co-op...</td>\n",
              "      <td>-1</td>\n",
              "      <td>-2</td>\n",
              "      <td>-2</td>\n",
              "      <td>6.989392</td>\n",
              "    </tr>\n",
              "    <tr>\n",
              "      <th>9</th>\n",
              "      <td>Software Engineer III - Big Data Platform - S...</td>\n",
              "      <td>0</td>\n",
              "      <td>-2</td>\n",
              "      <td>-2</td>\n",
              "      <td>6.776567</td>\n",
              "    </tr>\n",
              "    <tr>\n",
              "      <th>10</th>\n",
              "      <td>Senior Biostatistician</td>\n",
              "      <td>-1</td>\n",
              "      <td>-2</td>\n",
              "      <td>-2</td>\n",
              "      <td>6.673045</td>\n",
              "    </tr>\n",
              "    <tr>\n",
              "      <th>11</th>\n",
              "      <td>REMOTE - DATA Architect</td>\n",
              "      <td>1</td>\n",
              "      <td>-2</td>\n",
              "      <td>1</td>\n",
              "      <td>6.546139</td>\n",
              "    </tr>\n",
              "    <tr>\n",
              "      <th>12</th>\n",
              "      <td>Data Architect Sr</td>\n",
              "      <td>1</td>\n",
              "      <td>-2</td>\n",
              "      <td>1</td>\n",
              "      <td>6.260116</td>\n",
              "    </tr>\n",
              "    <tr>\n",
              "      <th>13</th>\n",
              "      <td>.Net Developer - Chattanooga</td>\n",
              "      <td>-2</td>\n",
              "      <td>-2</td>\n",
              "      <td>-2</td>\n",
              "      <td>5.920070</td>\n",
              "    </tr>\n",
              "    <tr>\n",
              "      <th>14</th>\n",
              "      <td>Application Analyst</td>\n",
              "      <td>0</td>\n",
              "      <td>-1</td>\n",
              "      <td>0</td>\n",
              "      <td>5.898099</td>\n",
              "    </tr>\n",
              "    <tr>\n",
              "      <th>15</th>\n",
              "      <td>Information Systems (IS) Analyst</td>\n",
              "      <td>0</td>\n",
              "      <td>1</td>\n",
              "      <td>-2</td>\n",
              "      <td>5.889247</td>\n",
              "    </tr>\n",
              "    <tr>\n",
              "      <th>16</th>\n",
              "      <td>Compensation Analyst</td>\n",
              "      <td>0</td>\n",
              "      <td>-2</td>\n",
              "      <td>-2</td>\n",
              "      <td>5.464734</td>\n",
              "    </tr>\n",
              "    <tr>\n",
              "      <th>17</th>\n",
              "      <td>Principal Product Manager - Data Science</td>\n",
              "      <td>2</td>\n",
              "      <td>-1</td>\n",
              "      <td>-2</td>\n",
              "      <td>5.348749</td>\n",
              "    </tr>\n",
              "    <tr>\n",
              "      <th>18</th>\n",
              "      <td>Data Architect</td>\n",
              "      <td>0</td>\n",
              "      <td>-2</td>\n",
              "      <td>1</td>\n",
              "      <td>4.653323</td>\n",
              "    </tr>\n",
              "    <tr>\n",
              "      <th>19</th>\n",
              "      <td>Research and Development Data Engineer - BS/MS</td>\n",
              "      <td>0</td>\n",
              "      <td>-2</td>\n",
              "      <td>-2</td>\n",
              "      <td>4.616165</td>\n",
              "    </tr>\n",
              "  </tbody>\n",
              "</table>\n",
              "</div>"
            ],
            "text/plain": [
              "                                                title  ...  bm25_score\n",
              "0                                Lead Data Architect   ...   29.168741\n",
              "1                              Senior Data Scientist   ...   18.587222\n",
              "2                            Hadoop/ Spark Developer   ...   15.499726\n",
              "3                Data Analyst/Integration Specialist   ...   10.240076\n",
              "4                                     Data Architect   ...    9.772508\n",
              "5                    Practice Director, Data Science   ...    9.437960\n",
              "6                   Data Scientist - Adtech - Remote   ...    9.363572\n",
              "7           Senior Software Engineer - Scan Services   ...    8.897336\n",
              "8    Tire Intelligence Algorithm Development Co-op...  ...    6.989392\n",
              "9    Software Engineer III - Big Data Platform - S...  ...    6.776567\n",
              "10                            Senior Biostatistician   ...    6.673045\n",
              "11                           REMOTE - DATA Architect   ...    6.546139\n",
              "12                                 Data Architect Sr   ...    6.260116\n",
              "13                      .Net Developer - Chattanooga   ...    5.920070\n",
              "14                               Application Analyst   ...    5.898099\n",
              "15                  Information Systems (IS) Analyst   ...    5.889247\n",
              "16                              Compensation Analyst   ...    5.464734\n",
              "17          Principal Product Manager - Data Science   ...    5.348749\n",
              "18                                    Data Architect   ...    4.653323\n",
              "19    Research and Development Data Engineer - BS/MS   ...    4.616165\n",
              "\n",
              "[20 rows x 5 columns]"
            ]
          },
          "metadata": {
            "tags": []
          },
          "execution_count": 65
        }
      ]
    },
    {
      "cell_type": "code",
      "metadata": {
        "colab": {
          "base_uri": "https://localhost:8080/"
        },
        "id": "yONuFg7_wJHz",
        "outputId": "baa03827-048e-423c-ad65-67027fcdb20a"
      },
      "source": [
        "evaluate_mAP(ds_docs, rel_column=\"ds_rel\")"
      ],
      "execution_count": null,
      "outputs": [
        {
          "output_type": "execute_result",
          "data": {
            "text/plain": [
              "0.891453"
            ]
          },
          "metadata": {
            "tags": []
          },
          "execution_count": 66
        }
      ]
    },
    {
      "cell_type": "code",
      "metadata": {
        "colab": {
          "base_uri": "https://localhost:8080/",
          "height": 669
        },
        "id": "2dzX6fuTwWHk",
        "outputId": "edd74122-da93-499e-b9c7-98035869f6ab"
      },
      "source": [
        "## the column variable, make sure it matches with the column that was fitted into BM25 model\n",
        "\n",
        "# ux_docs = retrieve_docs(\"ux designer\", column=\"title_clean_string\")\n",
        "# ux_docs = retrieve_docs(\"ux designer\", column=\"description_clean_string\")\n",
        "# ux_docs = retrieve_docs(\"ux designer\", column=\"title_and_description\")\n",
        "# ux_docs = retrieve_docs(\"ux designer\", column=\"entities_clean_string\")\n",
        "# ux_docs = retrieve_docs(\"ux designer\", column=\"title_and_entities\")\n",
        "ux_docs = retrieve_docs(\"ux designer\", column=\"company_title_entities\")\n",
        "\n",
        "ux_docs"
      ],
      "execution_count": null,
      "outputs": [
        {
          "output_type": "execute_result",
          "data": {
            "text/html": [
              "<div>\n",
              "<style scoped>\n",
              "    .dataframe tbody tr th:only-of-type {\n",
              "        vertical-align: middle;\n",
              "    }\n",
              "\n",
              "    .dataframe tbody tr th {\n",
              "        vertical-align: top;\n",
              "    }\n",
              "\n",
              "    .dataframe thead th {\n",
              "        text-align: right;\n",
              "    }\n",
              "</style>\n",
              "<table border=\"1\" class=\"dataframe\">\n",
              "  <thead>\n",
              "    <tr style=\"text-align: right;\">\n",
              "      <th></th>\n",
              "      <th>title</th>\n",
              "      <th>ds_rel</th>\n",
              "      <th>security_rel</th>\n",
              "      <th>ux_rel</th>\n",
              "      <th>bm25_score</th>\n",
              "    </tr>\n",
              "  </thead>\n",
              "  <tbody>\n",
              "    <tr>\n",
              "      <th>0</th>\n",
              "      <td>Salesforce Project Manager</td>\n",
              "      <td>-2</td>\n",
              "      <td>-2</td>\n",
              "      <td>-2</td>\n",
              "      <td>9.211409</td>\n",
              "    </tr>\n",
              "    <tr>\n",
              "      <th>1</th>\n",
              "      <td>DESIGNER 3</td>\n",
              "      <td>-2</td>\n",
              "      <td>-2</td>\n",
              "      <td>1</td>\n",
              "      <td>5.495823</td>\n",
              "    </tr>\n",
              "    <tr>\n",
              "      <th>2</th>\n",
              "      <td>Mechanical Engineer / Machine Designer - Entr...</td>\n",
              "      <td>-2</td>\n",
              "      <td>-2</td>\n",
              "      <td>-2</td>\n",
              "      <td>5.290321</td>\n",
              "    </tr>\n",
              "    <tr>\n",
              "      <th>3</th>\n",
              "      <td>Senior Test Specialist</td>\n",
              "      <td>0</td>\n",
              "      <td>1</td>\n",
              "      <td>-2</td>\n",
              "      <td>4.793720</td>\n",
              "    </tr>\n",
              "    <tr>\n",
              "      <th>4</th>\n",
              "      <td>Jr Web Developer</td>\n",
              "      <td>0</td>\n",
              "      <td>0</td>\n",
              "      <td>1</td>\n",
              "      <td>4.269083</td>\n",
              "    </tr>\n",
              "    <tr>\n",
              "      <th>5</th>\n",
              "      <td>Lead Data Engineer</td>\n",
              "      <td>1</td>\n",
              "      <td>0</td>\n",
              "      <td>-2</td>\n",
              "      <td>4.135054</td>\n",
              "    </tr>\n",
              "    <tr>\n",
              "      <th>6</th>\n",
              "      <td>Senior Software Engineer in Test (San Francis...</td>\n",
              "      <td>-1</td>\n",
              "      <td>-2</td>\n",
              "      <td>-2</td>\n",
              "      <td>4.103957</td>\n",
              "    </tr>\n",
              "    <tr>\n",
              "      <th>7</th>\n",
              "      <td>Principal Software Engineer</td>\n",
              "      <td>-1</td>\n",
              "      <td>-2</td>\n",
              "      <td>-2</td>\n",
              "      <td>3.960996</td>\n",
              "    </tr>\n",
              "    <tr>\n",
              "      <th>8</th>\n",
              "      <td>Product Manager Fusion 360 Documentation</td>\n",
              "      <td>-2</td>\n",
              "      <td>-2</td>\n",
              "      <td>-1</td>\n",
              "      <td>3.646645</td>\n",
              "    </tr>\n",
              "    <tr>\n",
              "      <th>9</th>\n",
              "      <td>Software Engineer III - Big Data Platform - S...</td>\n",
              "      <td>0</td>\n",
              "      <td>-2</td>\n",
              "      <td>-2</td>\n",
              "      <td>3.404213</td>\n",
              "    </tr>\n",
              "    <tr>\n",
              "      <th>10</th>\n",
              "      <td>Cloud Engineer</td>\n",
              "      <td>-2</td>\n",
              "      <td>-1</td>\n",
              "      <td>-2</td>\n",
              "      <td>0.000000</td>\n",
              "    </tr>\n",
              "    <tr>\n",
              "      <th>11</th>\n",
              "      <td>Back-End Software Developer</td>\n",
              "      <td>-1</td>\n",
              "      <td>-1</td>\n",
              "      <td>-2</td>\n",
              "      <td>0.000000</td>\n",
              "    </tr>\n",
              "    <tr>\n",
              "      <th>12</th>\n",
              "      <td>Senior Director, Content Strategy &amp; Customer ...</td>\n",
              "      <td>-2</td>\n",
              "      <td>-2</td>\n",
              "      <td>0</td>\n",
              "      <td>0.000000</td>\n",
              "    </tr>\n",
              "    <tr>\n",
              "      <th>13</th>\n",
              "      <td>Technical Writer/Project Manager/Attorney</td>\n",
              "      <td>-2</td>\n",
              "      <td>-2</td>\n",
              "      <td>-2</td>\n",
              "      <td>0.000000</td>\n",
              "    </tr>\n",
              "    <tr>\n",
              "      <th>14</th>\n",
              "      <td>Back End Developer</td>\n",
              "      <td>-1</td>\n",
              "      <td>-1</td>\n",
              "      <td>-2</td>\n",
              "      <td>0.000000</td>\n",
              "    </tr>\n",
              "    <tr>\n",
              "      <th>15</th>\n",
              "      <td>Operations Analyst, Inspection Center Team</td>\n",
              "      <td>-1</td>\n",
              "      <td>-2</td>\n",
              "      <td>-2</td>\n",
              "      <td>0.000000</td>\n",
              "    </tr>\n",
              "    <tr>\n",
              "      <th>16</th>\n",
              "      <td>Lead Data Architect</td>\n",
              "      <td>1</td>\n",
              "      <td>-2</td>\n",
              "      <td>1</td>\n",
              "      <td>0.000000</td>\n",
              "    </tr>\n",
              "    <tr>\n",
              "      <th>17</th>\n",
              "      <td>Application Security Engineer</td>\n",
              "      <td>-2</td>\n",
              "      <td>1</td>\n",
              "      <td>-2</td>\n",
              "      <td>0.000000</td>\n",
              "    </tr>\n",
              "    <tr>\n",
              "      <th>18</th>\n",
              "      <td>Quality Assurance Specialist</td>\n",
              "      <td>-2</td>\n",
              "      <td>-1</td>\n",
              "      <td>-2</td>\n",
              "      <td>0.000000</td>\n",
              "    </tr>\n",
              "    <tr>\n",
              "      <th>19</th>\n",
              "      <td>Data Scientist - Adtech - Remote</td>\n",
              "      <td>2</td>\n",
              "      <td>-2</td>\n",
              "      <td>-2</td>\n",
              "      <td>0.000000</td>\n",
              "    </tr>\n",
              "  </tbody>\n",
              "</table>\n",
              "</div>"
            ],
            "text/plain": [
              "                                                title  ...  bm25_score\n",
              "0                         Salesforce Project Manager   ...    9.211409\n",
              "1                                         DESIGNER 3   ...    5.495823\n",
              "2    Mechanical Engineer / Machine Designer - Entr...  ...    5.290321\n",
              "3                             Senior Test Specialist   ...    4.793720\n",
              "4                                   Jr Web Developer   ...    4.269083\n",
              "5                                Lead Data Engineer    ...    4.135054\n",
              "6    Senior Software Engineer in Test (San Francis...  ...    4.103957\n",
              "7                        Principal Software Engineer   ...    3.960996\n",
              "8           Product Manager Fusion 360 Documentation   ...    3.646645\n",
              "9    Software Engineer III - Big Data Platform - S...  ...    3.404213\n",
              "10                                    Cloud Engineer   ...    0.000000\n",
              "11                       Back-End Software Developer   ...    0.000000\n",
              "12   Senior Director, Content Strategy & Customer ...  ...    0.000000\n",
              "13         Technical Writer/Project Manager/Attorney   ...    0.000000\n",
              "14                                Back End Developer   ...    0.000000\n",
              "15        Operations Analyst, Inspection Center Team   ...    0.000000\n",
              "16                               Lead Data Architect   ...    0.000000\n",
              "17                     Application Security Engineer   ...    0.000000\n",
              "18                      Quality Assurance Specialist   ...    0.000000\n",
              "19                  Data Scientist - Adtech - Remote   ...    0.000000\n",
              "\n",
              "[20 rows x 5 columns]"
            ]
          },
          "metadata": {
            "tags": []
          },
          "execution_count": 67
        }
      ]
    },
    {
      "cell_type": "code",
      "metadata": {
        "colab": {
          "base_uri": "https://localhost:8080/"
        },
        "id": "o5aonXBVwV-9",
        "outputId": "249696c3-9d80-4483-92f1-a565ab52d2d4"
      },
      "source": [
        "evaluate_mAP(ux_docs, rel_column=\"ux_rel\")"
      ],
      "execution_count": null,
      "outputs": [
        {
          "output_type": "execute_result",
          "data": {
            "text/plain": [
              "0.358824"
            ]
          },
          "metadata": {
            "tags": []
          },
          "execution_count": 68
        }
      ]
    },
    {
      "cell_type": "code",
      "metadata": {
        "colab": {
          "base_uri": "https://localhost:8080/",
          "height": 669
        },
        "id": "L6s4b-KDk4qz",
        "outputId": "3bc455cd-9e71-41ae-cbbc-5528a024113a"
      },
      "source": [
        "## the column variable, make sure it matches with the column that was fitted into BM25 model\n",
        "\n",
        "# security_docs = retrieve_docs(\"security\", column=\"title_clean_string\")\n",
        "# security_docs = retrieve_docs(\"security\", column=\"description_clean_string\")\n",
        "# security_docs = retrieve_docs(\"security\", column=\"title_and_description\")\n",
        "# security_docs = retrieve_docs(\"security\", column=\"entities_clean_string\")\n",
        "# security_docs = retrieve_docs(\"security\", column=\"title_and_entities\")\n",
        "security_docs = retrieve_docs(\"security\", column=\"company_title_entities\")\n",
        "\n",
        "security_docs"
      ],
      "execution_count": null,
      "outputs": [
        {
          "output_type": "execute_result",
          "data": {
            "text/html": [
              "<div>\n",
              "<style scoped>\n",
              "    .dataframe tbody tr th:only-of-type {\n",
              "        vertical-align: middle;\n",
              "    }\n",
              "\n",
              "    .dataframe tbody tr th {\n",
              "        vertical-align: top;\n",
              "    }\n",
              "\n",
              "    .dataframe thead th {\n",
              "        text-align: right;\n",
              "    }\n",
              "</style>\n",
              "<table border=\"1\" class=\"dataframe\">\n",
              "  <thead>\n",
              "    <tr style=\"text-align: right;\">\n",
              "      <th></th>\n",
              "      <th>title</th>\n",
              "      <th>ds_rel</th>\n",
              "      <th>security_rel</th>\n",
              "      <th>ux_rel</th>\n",
              "      <th>bm25_score</th>\n",
              "    </tr>\n",
              "  </thead>\n",
              "  <tbody>\n",
              "    <tr>\n",
              "      <th>0</th>\n",
              "      <td>Customer Success Security Sales Engineer</td>\n",
              "      <td>-2</td>\n",
              "      <td>-2</td>\n",
              "      <td>-2</td>\n",
              "      <td>7.906124</td>\n",
              "    </tr>\n",
              "    <tr>\n",
              "      <th>1</th>\n",
              "      <td>Security Engineer</td>\n",
              "      <td>-1</td>\n",
              "      <td>2</td>\n",
              "      <td>-2</td>\n",
              "      <td>6.857971</td>\n",
              "    </tr>\n",
              "    <tr>\n",
              "      <th>2</th>\n",
              "      <td>Penetration Tester with Security Clearance</td>\n",
              "      <td>-2</td>\n",
              "      <td>2</td>\n",
              "      <td>-2</td>\n",
              "      <td>6.818188</td>\n",
              "    </tr>\n",
              "    <tr>\n",
              "      <th>3</th>\n",
              "      <td>Application Security Engineer</td>\n",
              "      <td>-2</td>\n",
              "      <td>1</td>\n",
              "      <td>-2</td>\n",
              "      <td>6.728213</td>\n",
              "    </tr>\n",
              "    <tr>\n",
              "      <th>4</th>\n",
              "      <td>Network Administrator</td>\n",
              "      <td>-1</td>\n",
              "      <td>1</td>\n",
              "      <td>-2</td>\n",
              "      <td>6.408393</td>\n",
              "    </tr>\n",
              "    <tr>\n",
              "      <th>5</th>\n",
              "      <td>Senior Security Engineer</td>\n",
              "      <td>-1</td>\n",
              "      <td>2</td>\n",
              "      <td>-2</td>\n",
              "      <td>6.088032</td>\n",
              "    </tr>\n",
              "    <tr>\n",
              "      <th>6</th>\n",
              "      <td>Senior Investigator</td>\n",
              "      <td>-2</td>\n",
              "      <td>-1</td>\n",
              "      <td>-2</td>\n",
              "      <td>5.822962</td>\n",
              "    </tr>\n",
              "    <tr>\n",
              "      <th>7</th>\n",
              "      <td>Security Software Engineer - Cryptography, C/...</td>\n",
              "      <td>0</td>\n",
              "      <td>2</td>\n",
              "      <td>-2</td>\n",
              "      <td>5.722788</td>\n",
              "    </tr>\n",
              "    <tr>\n",
              "      <th>8</th>\n",
              "      <td>Senior Security Engineer (Cryptography)</td>\n",
              "      <td>-2</td>\n",
              "      <td>2</td>\n",
              "      <td>-2</td>\n",
              "      <td>5.674950</td>\n",
              "    </tr>\n",
              "    <tr>\n",
              "      <th>9</th>\n",
              "      <td>Software Development Engineer 1</td>\n",
              "      <td>-1</td>\n",
              "      <td>-2</td>\n",
              "      <td>-2</td>\n",
              "      <td>5.583443</td>\n",
              "    </tr>\n",
              "    <tr>\n",
              "      <th>10</th>\n",
              "      <td>Senior Software Engineer in Test (San Francis...</td>\n",
              "      <td>-1</td>\n",
              "      <td>-2</td>\n",
              "      <td>-2</td>\n",
              "      <td>5.229860</td>\n",
              "    </tr>\n",
              "    <tr>\n",
              "      <th>11</th>\n",
              "      <td>Solutions Architect with Security Clearance</td>\n",
              "      <td>-1</td>\n",
              "      <td>1</td>\n",
              "      <td>-2</td>\n",
              "      <td>4.817601</td>\n",
              "    </tr>\n",
              "    <tr>\n",
              "      <th>12</th>\n",
              "      <td>Senior C# Developer</td>\n",
              "      <td>-2</td>\n",
              "      <td>-1</td>\n",
              "      <td>-2</td>\n",
              "      <td>4.817601</td>\n",
              "    </tr>\n",
              "    <tr>\n",
              "      <th>13</th>\n",
              "      <td>Security Lead</td>\n",
              "      <td>-2</td>\n",
              "      <td>2</td>\n",
              "      <td>-2</td>\n",
              "      <td>4.677039</td>\n",
              "    </tr>\n",
              "    <tr>\n",
              "      <th>14</th>\n",
              "      <td>Web Systems Engineer</td>\n",
              "      <td>-1</td>\n",
              "      <td>0</td>\n",
              "      <td>-2</td>\n",
              "      <td>4.424698</td>\n",
              "    </tr>\n",
              "    <tr>\n",
              "      <th>15</th>\n",
              "      <td>Senior Technical Instructor</td>\n",
              "      <td>0</td>\n",
              "      <td>1</td>\n",
              "      <td>-2</td>\n",
              "      <td>3.640292</td>\n",
              "    </tr>\n",
              "    <tr>\n",
              "      <th>16</th>\n",
              "      <td>Software Engineer III - Big Data Platform - S...</td>\n",
              "      <td>0</td>\n",
              "      <td>-2</td>\n",
              "      <td>-2</td>\n",
              "      <td>2.525729</td>\n",
              "    </tr>\n",
              "    <tr>\n",
              "      <th>17</th>\n",
              "      <td>Cloud Engineer</td>\n",
              "      <td>-2</td>\n",
              "      <td>-1</td>\n",
              "      <td>-2</td>\n",
              "      <td>2.525729</td>\n",
              "    </tr>\n",
              "    <tr>\n",
              "      <th>18</th>\n",
              "      <td>Lead Data Architect</td>\n",
              "      <td>1</td>\n",
              "      <td>-2</td>\n",
              "      <td>1</td>\n",
              "      <td>2.525729</td>\n",
              "    </tr>\n",
              "    <tr>\n",
              "      <th>19</th>\n",
              "      <td>Product Manager Fusion 360 Documentation</td>\n",
              "      <td>-2</td>\n",
              "      <td>-2</td>\n",
              "      <td>-1</td>\n",
              "      <td>2.525729</td>\n",
              "    </tr>\n",
              "  </tbody>\n",
              "</table>\n",
              "</div>"
            ],
            "text/plain": [
              "                                                title  ...  bm25_score\n",
              "0           Customer Success Security Sales Engineer   ...    7.906124\n",
              "1                                  Security Engineer   ...    6.857971\n",
              "2         Penetration Tester with Security Clearance   ...    6.818188\n",
              "3                      Application Security Engineer   ...    6.728213\n",
              "4                              Network Administrator   ...    6.408393\n",
              "5                           Senior Security Engineer   ...    6.088032\n",
              "6                                Senior Investigator   ...    5.822962\n",
              "7    Security Software Engineer - Cryptography, C/...  ...    5.722788\n",
              "8            Senior Security Engineer (Cryptography)   ...    5.674950\n",
              "9                    Software Development Engineer 1   ...    5.583443\n",
              "10   Senior Software Engineer in Test (San Francis...  ...    5.229860\n",
              "11       Solutions Architect with Security Clearance   ...    4.817601\n",
              "12                               Senior C# Developer   ...    4.817601\n",
              "13                                     Security Lead   ...    4.677039\n",
              "14                              Web Systems Engineer   ...    4.424698\n",
              "15                       Senior Technical Instructor   ...    3.640292\n",
              "16   Software Engineer III - Big Data Platform - S...  ...    2.525729\n",
              "17                                    Cloud Engineer   ...    2.525729\n",
              "18                               Lead Data Architect   ...    2.525729\n",
              "19          Product Manager Fusion 360 Documentation   ...    2.525729\n",
              "\n",
              "[20 rows x 5 columns]"
            ]
          },
          "metadata": {
            "tags": []
          },
          "execution_count": 62
        }
      ]
    },
    {
      "cell_type": "code",
      "metadata": {
        "colab": {
          "base_uri": "https://localhost:8080/"
        },
        "id": "8TW9jVVWnw_E",
        "outputId": "f1071c6f-518d-482d-cc12-bd176acfe3cc"
      },
      "source": [
        "evaluate_mAP(security_docs, rel_column=\"security_rel\")"
      ],
      "execution_count": null,
      "outputs": [
        {
          "output_type": "execute_result",
          "data": {
            "text/plain": [
              "0.70123"
            ]
          },
          "metadata": {
            "tags": []
          },
          "execution_count": 63
        }
      ]
    },
    {
      "cell_type": "code",
      "metadata": {
        "id": "nRz3onYmk5B-"
      },
      "source": [
        ""
      ],
      "execution_count": null,
      "outputs": []
    }
  ]
}